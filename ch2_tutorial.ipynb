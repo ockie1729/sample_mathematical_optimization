{
 "cells": [
  {
   "cell_type": "markdown",
   "id": "temporal-victorian",
   "metadata": {},
   "source": [
    "# Ch.2 Tutorial"
   ]
  },
  {
   "cell_type": "code",
   "execution_count": 1,
   "id": "lyric-identification",
   "metadata": {},
   "outputs": [],
   "source": [
    "import pulp"
   ]
  },
  {
   "cell_type": "markdown",
   "id": "certified-bridges",
   "metadata": {},
   "source": [
    "## 連立一次方程式"
   ]
  },
  {
   "cell_type": "code",
   "execution_count": 2,
   "id": "posted-blanket",
   "metadata": {},
   "outputs": [],
   "source": [
    "problem = pulp.LpProblem('SLE', pulp.LpMaximize)"
   ]
  },
  {
   "cell_type": "code",
   "execution_count": 3,
   "id": "charitable-tsunami",
   "metadata": {},
   "outputs": [],
   "source": [
    "x = pulp.LpVariable('x', cat='Continuous')\n",
    "y = pulp.LpVariable('y', cat='Continuous')"
   ]
  },
  {
   "cell_type": "code",
   "execution_count": 4,
   "id": "spread-professor",
   "metadata": {},
   "outputs": [],
   "source": [
    "problem += (120 * x + 150 * y == 1440)\n",
    "problem += (x + y == 10)"
   ]
  },
  {
   "cell_type": "code",
   "execution_count": 5,
   "id": "aboriginal-asset",
   "metadata": {},
   "outputs": [],
   "source": [
    "status = problem.solve()"
   ]
  },
  {
   "cell_type": "code",
   "execution_count": 18,
   "id": "approximate-watson",
   "metadata": {},
   "outputs": [
    {
     "name": "stdout",
     "output_type": "stream",
     "text": [
      "Status: Optimal\n",
      "x = 2.0, y = 8.0\n"
     ]
    }
   ],
   "source": [
    "print(f'Status: {pulp.LpStatus[status]}')\n",
    "print(f'x = {x.value()}, y = {y.value()}')"
   ]
  },
  {
   "cell_type": "markdown",
   "id": "knowing-consumption",
   "metadata": {},
   "source": [
    "## 線形計画問題"
   ]
  },
  {
   "cell_type": "code",
   "execution_count": 19,
   "id": "victorian-tennessee",
   "metadata": {},
   "outputs": [],
   "source": [
    "problem = pulp.LpProblem('LP', pulp.LpMaximize)"
   ]
  },
  {
   "cell_type": "code",
   "execution_count": 20,
   "id": "crude-swaziland",
   "metadata": {},
   "outputs": [],
   "source": [
    "x = pulp.LpVariable('x', cat='Continuous')\n",
    "y = pulp.LpVariable('y', cat='Continuous')"
   ]
  },
  {
   "cell_type": "code",
   "execution_count": 22,
   "id": "piano-retreat",
   "metadata": {},
   "outputs": [],
   "source": [
    "problem += (1 * x + 3 * y <= 30)\n",
    "problem += (2 * x + 1 * y <= 40)\n",
    "\n",
    "problem += (x >= 0)\n",
    "problem += (y >= 0)\n",
    "\n",
    "problem += (x + 2 * y)"
   ]
  },
  {
   "cell_type": "code",
   "execution_count": 23,
   "id": "collaborative-southwest",
   "metadata": {},
   "outputs": [],
   "source": [
    "status = problem.solve()"
   ]
  },
  {
   "cell_type": "code",
   "execution_count": 24,
   "id": "charming-nicholas",
   "metadata": {},
   "outputs": [
    {
     "name": "stdout",
     "output_type": "stream",
     "text": [
      "Status: Optimal\n",
      "x= 18.0 y= 4.0 obj= 26.0\n"
     ]
    }
   ],
   "source": [
    "print('Status:', pulp.LpStatus[status])\n",
    "print('x=', x.value(), 'y=', y.value(),\n",
    "      'obj=', problem.objective.value())"
   ]
  },
  {
   "cell_type": "markdown",
   "id": "original-influence",
   "metadata": {},
   "source": [
    "## 規模の大きな線形計画問題(連続緩和)"
   ]
  },
  {
   "cell_type": "code",
   "execution_count": 25,
   "id": "acute-dodge",
   "metadata": {},
   "outputs": [],
   "source": [
    "import pandas as pd"
   ]
  },
  {
   "cell_type": "code",
   "execution_count": 26,
   "id": "north-colon",
   "metadata": {},
   "outputs": [],
   "source": [
    "# データの取得\n",
    "require_df = pd.read_csv('./PyOptBook/2.tutorial/requires.csv')\n",
    "stock_df = pd.read_csv('./PyOptBook/2.tutorial/stocks.csv')\n",
    "gain_df = pd.read_csv('./PyOptBook/2.tutorial/gains.csv')"
   ]
  },
  {
   "cell_type": "code",
   "execution_count": 27,
   "id": "metric-separate",
   "metadata": {},
   "outputs": [],
   "source": [
    "# リストの定義\n",
    "P = gain_df['p'].tolist()\n",
    "M = stock_df['m'].tolist()"
   ]
  },
  {
   "cell_type": "code",
   "execution_count": 28,
   "id": "flush-doctrine",
   "metadata": {},
   "outputs": [],
   "source": [
    "# 定数の定義\n",
    "\n",
    "stock = {row.m:row.stock for row in stock_df.itertuples()}\n",
    "gain = {row.p:row.gain for row in gain_df.itertuples()}\n",
    "require = {(row.p, row.m):row.require for row in require_df.itertuples()}"
   ]
  },
  {
   "cell_type": "code",
   "execution_count": 29,
   "id": "still-preference",
   "metadata": {},
   "outputs": [],
   "source": [
    "# 数理最適化モデルの定義\n",
    "problem = pulp.LpProblem('LP2', pulp.LpMaximize)"
   ]
  },
  {
   "cell_type": "code",
   "execution_count": 30,
   "id": "cardiovascular-property",
   "metadata": {},
   "outputs": [],
   "source": [
    "# 変数の定義\n",
    "x = pulp.LpVariable.dicts('x', P, cat='Continuous')"
   ]
  },
  {
   "cell_type": "code",
   "execution_count": 32,
   "id": "engaged-increase",
   "metadata": {},
   "outputs": [],
   "source": [
    "# 整数式の定義\n",
    "for p in P:\n",
    "    problem += (x[p] >= 0)\n",
    "\n",
    "for m in M:\n",
    "    problem += (pulp.lpSum([require[p, m] * x[p] for p in P]) <= stock[m])"
   ]
  },
  {
   "cell_type": "code",
   "execution_count": 34,
   "id": "sustained-wonder",
   "metadata": {},
   "outputs": [],
   "source": [
    "# 目的関数の定義\n",
    "problem += (pulp.lpSum([gain[p] * x[p] for p in P]))"
   ]
  },
  {
   "cell_type": "code",
   "execution_count": 35,
   "id": "specified-accessory",
   "metadata": {},
   "outputs": [
    {
     "name": "stdout",
     "output_type": "stream",
     "text": [
      "Status: Optimal\n"
     ]
    }
   ],
   "source": [
    "# 求解\n",
    "status = problem.solve()\n",
    "print('Status:', pulp.LpStatus[status])"
   ]
  },
  {
   "cell_type": "code",
   "execution_count": 36,
   "id": "joined-temple",
   "metadata": {},
   "outputs": [
    {
     "name": "stdout",
     "output_type": "stream",
     "text": [
      "p1 12.142857\n",
      "p2 3.5714286\n",
      "p3 7.4285714\n",
      "p4 0.0\n",
      "obj= 80.42857099999999\n"
     ]
    }
   ],
   "source": [
    "# 計算結果の表示\n",
    "for p in P:\n",
    "    print(p, x[p].value())\n",
    "    \n",
    "print('obj=', problem.objective.value())"
   ]
  }
 ],
 "metadata": {
  "kernelspec": {
   "display_name": "Python 3",
   "language": "python",
   "name": "python3"
  },
  "language_info": {
   "codemirror_mode": {
    "name": "ipython",
    "version": 3
   },
   "file_extension": ".py",
   "mimetype": "text/x-python",
   "name": "python",
   "nbconvert_exporter": "python",
   "pygments_lexer": "ipython3",
   "version": "3.8.6"
  }
 },
 "nbformat": 4,
 "nbformat_minor": 5
}
